{
 "cells": [
  {
   "cell_type": "markdown",
   "metadata": {},
   "source": [
    "# Coin Payment Problem"
   ]
  },
  {
   "cell_type": "markdown",
   "metadata": {},
   "source": [
    "***Problem*** Suppose you have an unlimited supply of coins with values 2 and 3 cents. How many ways can you pay for an item costing 8 cents?"
   ]
  },
  {
   "cell_type": "markdown",
   "metadata": {},
   "source": [
    "Let $a(n)$ be the number of ways to write 8 as an ordered sum of 2 or 3. If the first number is $k$, then the remaining numbers must sum to $n-k$, and there are $a(n-k)$ ways to do that. So we get the recurrence relation\n",
    "$$a(n) = a(n-2) + a(n-3)$$\n",
    "\n",
    "The boundary cases are $a(n) = 0$ for $n < 0$ and $a(0) = 1$. So we can write a Python code like this:"
   ]
  },
  {
   "cell_type": "code",
   "execution_count": 1,
   "metadata": {
    "collapsed": false
   },
   "outputs": [],
   "source": [
    "def a(n):\n",
    "    if n < 0:\n",
    "        return 0\n",
    "    if n == 0:\n",
    "        return 1\n",
    "    return a(n-2) + a(n-3)"
   ]
  },
  {
   "cell_type": "code",
   "execution_count": 2,
   "metadata": {
    "collapsed": false
   },
   "outputs": [
    {
     "name": "stdout",
     "output_type": "stream",
     "text": [
      "4\n"
     ]
    }
   ],
   "source": [
    "print a(8)"
   ]
  },
  {
   "cell_type": "markdown",
   "metadata": {},
   "source": [
    "However, running $a(80)$ will take a very long time since we are repeatedly recalculating $a(n)$ for the same value of $n$. To make it run faster, we use **memoization**: keeping the computed results in a Python `dict` (a lookup table, similar to C++'s STL `map` / Java's `Map` / MATLAB's `containers.Map`)"
   ]
  },
  {
   "cell_type": "code",
   "execution_count": 3,
   "metadata": {
    "collapsed": false
   },
   "outputs": [],
   "source": [
    "cache = {}\n",
    "def a(n):\n",
    "    if n < 0:\n",
    "        return 0\n",
    "    if n == 0:\n",
    "        return 1\n",
    "    if n not in cache:\n",
    "        cache[n] = a(n-2) + a(n-3)\n",
    "    return cache[n]"
   ]
  },
  {
   "cell_type": "code",
   "execution_count": 4,
   "metadata": {
    "collapsed": false
   },
   "outputs": [
    {
     "name": "stdout",
     "output_type": "stream",
     "text": [
      "2422362079\n"
     ]
    }
   ],
   "source": [
    "print a(80)"
   ]
  },
  {
   "cell_type": "markdown",
   "metadata": {},
   "source": [
    "***Bonus*** Running $a(8000)$ will result in an error since Python only allows around 1000 layers of recursion. One hack is to cache the values of smaller $n$'s first. When we do large $n$, we can just look for the answer in the cache without having to call the function recursively. (You don't have to worry about this in the homework, though.)"
   ]
  },
  {
   "cell_type": "code",
   "execution_count": 5,
   "metadata": {
    "collapsed": false
   },
   "outputs": [
    {
     "name": "stdout",
     "output_type": "stream",
     "text": [
      "39971709262270469339334824524544478874793415306288861437045002883306538475110014107555444549059999333012113634737814859978709929401134301445559571996538135981263881296300074068433510415068514788380932892123566999274219407049873038781604487340923914009402215715442934907482175686509933815705673517354297153047181641495126458465663283570853721956522371097513940585663225433394783767944850346717895530887113666372888343680882724488774689733480804686561966836450138464480969720028434641953448087396915585761942991981194575160391279073878956918086775580276452084964095012026218209778847998216212471030406555326187047666752373217619104677712301618740328978156924235647507166558770426869317790268541980878368307033024096321976735150470555790798204632727139007246891864497521962255042470317985270747348140017322555064833961884933110570429559578454030479333209491472897834503230942696093791381139284075255770373740982949104543605861386249915980955361494732642241032177430191449058009954\n"
     ]
    }
   ],
   "source": [
    "for n in xrange(8000):\n",
    "    a(n)\n",
    "print a(8000)"
   ]
  },
  {
   "cell_type": "markdown",
   "metadata": {},
   "source": [
    "# Python"
   ]
  },
  {
   "cell_type": "markdown",
   "metadata": {},
   "source": [
    "## Basic Data Structures"
   ]
  },
  {
   "cell_type": "markdown",
   "metadata": {},
   "source": [
    "The basic data structures include:\n",
    "\n",
    "* **numbers** (`int` = integers and `float` = decimals)\n",
    "* **strings** (`str` = strings and `unicode` = international strings)\n",
    "    * Unlike C, you cannot change a character in strings.\n",
    "    * Unlike Java, `a == b` actually works.\n",
    "* **lists** (`list` = mutable array; you can change its content)\n",
    "* **tuples** (`tuple` = immutable array; you cannot change its content)\n",
    "* **sets** (`set` = set of unrepeated values)\n",
    "* **dicts** (`dict` = lookup table mapping keys to values)\n",
    "* `True`, `False` and `None`\n",
    "\n",
    "See <https://docs.python.org/2/library/stdtypes.html> for more details."
   ]
  },
  {
   "cell_type": "markdown",
   "metadata": {},
   "source": [
    "## Syntactic Sugar"
   ]
  },
  {
   "cell_type": "markdown",
   "metadata": {},
   "source": [
    "### List comprehension"
   ]
  },
  {
   "cell_type": "code",
   "execution_count": 1,
   "metadata": {
    "collapsed": false
   },
   "outputs": [],
   "source": [
    "a = \"Can I skip a CS221 homework? No dice!!\""
   ]
  },
  {
   "cell_type": "markdown",
   "metadata": {},
   "source": [
    "The **split** command creates a list from a string with blank spaces as delimiters by default. You can also specify a different delimiter."
   ]
  },
  {
   "cell_type": "code",
   "execution_count": 2,
   "metadata": {
    "collapsed": false
   },
   "outputs": [
    {
     "name": "stdout",
     "output_type": "stream",
     "text": [
      "['Can', 'I', 'skip', 'a', 'CS221', 'homework?', 'No', 'dice!!']\n"
     ]
    }
   ],
   "source": [
    "b = a.split()\n",
    "print b"
   ]
  },
  {
   "cell_type": "code",
   "execution_count": 3,
   "metadata": {
    "collapsed": false
   },
   "outputs": [
    {
     "name": "stdout",
     "output_type": "stream",
     "text": [
      "[3, 1, 4, 1, 5, 9, 2, 6]\n"
     ]
    }
   ],
   "source": [
    "c = [len(_) for _ in b]\n",
    "print c"
   ]
  },
  {
   "cell_type": "markdown",
   "metadata": {},
   "source": [
    "Note that `_` is a valid variable name (usually for one-time use). An equivalent for-loop would be:"
   ]
  },
  {
   "cell_type": "code",
   "execution_count": 4,
   "metadata": {
    "collapsed": false
   },
   "outputs": [
    {
     "name": "stdout",
     "output_type": "stream",
     "text": [
      "[3, 1, 4, 1, 5, 9, 2, 6]\n"
     ]
    }
   ],
   "source": [
    "c = []\n",
    "for _ in b:\n",
    "    c.append(len(_))\n",
    "print c"
   ]
  },
  {
   "cell_type": "markdown",
   "metadata": {},
   "source": [
    "You can also filter the results of a list comprehension with an **if** clause:"
   ]
  },
  {
   "cell_type": "code",
   "execution_count": 5,
   "metadata": {
    "collapsed": false
   },
   "outputs": [
    {
     "name": "stdout",
     "output_type": "stream",
     "text": [
      "[4, 2, 6]\n"
     ]
    }
   ],
   "source": [
    "c = [len(_) for _ in b if len(_) % 2 == 0]    # % is modulus (remainder after division)\n",
    "print c"
   ]
  },
  {
   "cell_type": "markdown",
   "metadata": {},
   "source": [
    "**enumerate** is a useful built-in:"
   ]
  },
  {
   "cell_type": "code",
   "execution_count": 7,
   "metadata": {
    "collapsed": false
   },
   "outputs": [
    {
     "name": "stdout",
     "output_type": "stream",
     "text": [
      "<enumerate object at 0x1061e0500>\n",
      "(0, 'a')\n",
      "[(0, 'a'), (1, 'b'), (2, 'c')]\n"
     ]
    }
   ],
   "source": [
    "a = enumerate(['a', 'b', 'c'])    \n",
    "print list(enumerate(['a', 'b', 'c']))"
   ]
  },
  {
   "cell_type": "markdown",
   "metadata": {},
   "source": [
    "### List Slicing"
   ]
  },
  {
   "cell_type": "code",
   "execution_count": 8,
   "metadata": {
    "collapsed": false
   },
   "outputs": [
    {
     "name": "stdout",
     "output_type": "stream",
     "text": [
      "[3, 1, 4, 1, 5, 9, 2, 6]\n"
     ]
    }
   ],
   "source": [
    "c = [len(_) for _ in b]\n",
    "print c"
   ]
  },
  {
   "cell_type": "code",
   "execution_count": 9,
   "metadata": {
    "collapsed": false
   },
   "outputs": [
    {
     "name": "stdout",
     "output_type": "stream",
     "text": [
      "4\n"
     ]
    }
   ],
   "source": [
    "print c[2]    # The index starts from 0"
   ]
  },
  {
   "cell_type": "code",
   "execution_count": 10,
   "metadata": {
    "collapsed": false
   },
   "outputs": [
    {
     "name": "stdout",
     "output_type": "stream",
     "text": [
      "6\n"
     ]
    }
   ],
   "source": [
    "print c[-1]   # You can count backward from the right: c[-1] is the last element"
   ]
  },
  {
   "cell_type": "code",
   "execution_count": 11,
   "metadata": {
    "collapsed": false
   },
   "outputs": [
    {
     "name": "stdout",
     "output_type": "stream",
     "text": [
      "[1, 4, 1]\n"
     ]
    }
   ],
   "source": [
    "print c[1:4]  # Indexes are inclusive:exclusive"
   ]
  },
  {
   "cell_type": "code",
   "execution_count": 12,
   "metadata": {
    "collapsed": false
   },
   "outputs": [
    {
     "name": "stdout",
     "output_type": "stream",
     "text": [
      "[3, 1, 4, 1]\n"
     ]
    }
   ],
   "source": [
    "print c[:4]   # = c[0:4]"
   ]
  },
  {
   "cell_type": "code",
   "execution_count": 13,
   "metadata": {
    "collapsed": false
   },
   "outputs": [
    {
     "name": "stdout",
     "output_type": "stream",
     "text": [
      "[5, 9, 2, 6]\n"
     ]
    }
   ],
   "source": [
    "print c[4:]   # = c[4:len(c)]"
   ]
  },
  {
   "cell_type": "code",
   "execution_count": 15,
   "metadata": {
    "collapsed": false
   },
   "outputs": [
    {
     "name": "stdout",
     "output_type": "stream",
     "text": [
      "[3, 1, 4, 1, 5, 9, 2]\n"
     ]
    }
   ],
   "source": [
    "print c[:-1] # = c[0:len(c)-1], cutting out the last element in the list"
   ]
  },
  {
   "cell_type": "markdown",
   "metadata": {},
   "source": [
    "### Passing functions around"
   ]
  },
  {
   "cell_type": "markdown",
   "metadata": {},
   "source": [
    "There are 2 ways to define functions. One is `def`:"
   ]
  },
  {
   "cell_type": "code",
   "execution_count": 17,
   "metadata": {
    "collapsed": false
   },
   "outputs": [],
   "source": [
    "def foo(x):\n",
    "    def subtractor(u):\n",
    "        return u - x # the x here refers to the x passed into foo\n",
    "    return subtractor"
   ]
  },
  {
   "cell_type": "code",
   "execution_count": 18,
   "metadata": {
    "collapsed": false
   },
   "outputs": [
    {
     "name": "stdout",
     "output_type": "stream",
     "text": [
      "<function subtractor at 0x10728df50>\n",
      "5\n"
     ]
    }
   ],
   "source": [
    "bar = foo(2)\n",
    "print bar\n",
    "print bar(7)"
   ]
  },
  {
   "cell_type": "markdown",
   "metadata": {},
   "source": [
    "Another way is to use `lambda` (anonymous functions):"
   ]
  },
  {
   "cell_type": "code",
   "execution_count": 19,
   "metadata": {
    "collapsed": false
   },
   "outputs": [],
   "source": [
    "def foo(x):\n",
    "    return lambda u: u - x"
   ]
  },
  {
   "cell_type": "code",
   "execution_count": 20,
   "metadata": {
    "collapsed": false
   },
   "outputs": [
    {
     "name": "stdout",
     "output_type": "stream",
     "text": [
      "<function <lambda> at 0x10728de60>\n",
      "5\n"
     ]
    }
   ],
   "source": [
    "bar = foo(2)\n",
    "print bar\n",
    "print bar(7)"
   ]
  },
  {
   "cell_type": "markdown",
   "metadata": {},
   "source": [
    "Functions can also be used as arguments of other functions:"
   ]
  },
  {
   "cell_type": "code",
   "execution_count": 22,
   "metadata": {
    "collapsed": false
   },
   "outputs": [],
   "source": [
    "def baz(fn):\n",
    "    return fn(10) ** 3     # x ** y is x to the y-th power."
   ]
  },
  {
   "cell_type": "code",
   "execution_count": 23,
   "metadata": {
    "collapsed": false
   },
   "outputs": [
    {
     "name": "stdout",
     "output_type": "stream",
     "text": [
      "512\n"
     ]
    }
   ],
   "source": [
    "print baz(bar)       # -> bar(10) ** 3 --> (10 - 2) ** 3"
   ]
  },
  {
   "cell_type": "markdown",
   "metadata": {},
   "source": [
    "### Reading / Writing files"
   ]
  },
  {
   "cell_type": "markdown",
   "metadata": {},
   "source": [
    "I like to use the **with** statement which closes the file after everything is done."
   ]
  },
  {
   "cell_type": "code",
   "execution_count": 24,
   "metadata": {
    "collapsed": false
   },
   "outputs": [
    {
     "name": "stdout",
     "output_type": "stream",
     "text": [
      "[2, 5, 3, 8, 6, 1, 7]\n"
     ]
    }
   ],
   "source": [
    "s = []\n",
    "with open('numbers.txt') as fin:\n",
    "    for line in fin:\n",
    "        s.append(int(line))\n",
    "print s"
   ]
  },
  {
   "cell_type": "code",
   "execution_count": 26,
   "metadata": {
    "collapsed": false
   },
   "outputs": [],
   "source": [
    "with open('sum1.txt', 'w') as fout:\n",
    "    # There are many ways to write the sum to the file\n",
    "    # Consult the documentation for these:\n",
    "    fout.write('{0}\\n'.format(sum(s)))\n",
    "    fout.write('%d\\n' % sum(s))\n",
    "    print >> fout, sum(s)\n",
    "    fout.write(str(sum(s)))"
   ]
  },
  {
   "cell_type": "markdown",
   "metadata": {},
   "source": [
    "The file now contains 4 lines of the number 32."
   ]
  },
  {
   "cell_type": "markdown",
   "metadata": {},
   "source": [
    "## Gotchas"
   ]
  },
  {
   "cell_type": "markdown",
   "metadata": {},
   "source": [
    "### Division"
   ]
  },
  {
   "cell_type": "markdown",
   "metadata": {},
   "source": [
    "In Python 2.7, the `/` sign rounds down integer divisions."
   ]
  },
  {
   "cell_type": "code",
   "execution_count": 27,
   "metadata": {
    "collapsed": false
   },
   "outputs": [
    {
     "name": "stdout",
     "output_type": "stream",
     "text": [
      "2\n",
      "2.5\n",
      "2.5\n"
     ]
    }
   ],
   "source": [
    "print 5/2\n",
    "print 5./2         # Use a decimal point\n",
    "a = 5\n",
    "print a * 1./2"
   ]
  },
  {
   "cell_type": "markdown",
   "metadata": {},
   "source": [
    "### Tied objects"
   ]
  },
  {
   "cell_type": "markdown",
   "metadata": {},
   "source": [
    "We can create a list of repeated objects like this:"
   ]
  },
  {
   "cell_type": "code",
   "execution_count": 28,
   "metadata": {
    "collapsed": false
   },
   "outputs": [
    {
     "name": "stdout",
     "output_type": "stream",
     "text": [
      "[3, 3, 3, 3]\n"
     ]
    }
   ],
   "source": [
    "print [3] * 4"
   ]
  },
  {
   "cell_type": "code",
   "execution_count": 29,
   "metadata": {
    "collapsed": false
   },
   "outputs": [
    {
     "name": "stdout",
     "output_type": "stream",
     "text": [
      "[3, 3, 3, 3]\n",
      "[4, 3, 3, 3]\n"
     ]
    }
   ],
   "source": [
    "x = [3] * 4\n",
    "print x\n",
    "x[0] += 1\n",
    "print x"
   ]
  },
  {
   "cell_type": "markdown",
   "metadata": {},
   "source": [
    "However, don't do this:"
   ]
  },
  {
   "cell_type": "code",
   "execution_count": 30,
   "metadata": {
    "collapsed": false
   },
   "outputs": [
    {
     "name": "stdout",
     "output_type": "stream",
     "text": [
      "[[], [], [], []]\n"
     ]
    }
   ],
   "source": [
    "a = [[]] * 4\n",
    "print a"
   ]
  },
  {
   "cell_type": "markdown",
   "metadata": {},
   "source": [
    "The problem is that all 4 empty lists are the **same** list:"
   ]
  },
  {
   "cell_type": "code",
   "execution_count": 31,
   "metadata": {
    "collapsed": false
   },
   "outputs": [
    {
     "name": "stdout",
     "output_type": "stream",
     "text": [
      "4414575464\n",
      "4414575464\n",
      "[['hello'], ['hello'], ['hello'], ['hello']]\n"
     ]
    }
   ],
   "source": [
    "print id(a[0])\n",
    "print id(a[1])\n",
    "a[0].append('hello')\n",
    "print a"
   ]
  },
  {
   "cell_type": "markdown",
   "metadata": {},
   "source": [
    "One solution is to use list comprehension:"
   ]
  },
  {
   "cell_type": "code",
   "execution_count": 32,
   "metadata": {
    "collapsed": false
   },
   "outputs": [
    {
     "name": "stdout",
     "output_type": "stream",
     "text": [
      "4414974792\n",
      "4415045072\n",
      "[['hello'], [], [], []]\n"
     ]
    }
   ],
   "source": [
    "a = [[] for _ in xrange(4)]\n",
    "print id(a[0])\n",
    "print id(a[1])\n",
    "a[0].append('hello')\n",
    "print a"
   ]
  },
  {
   "cell_type": "markdown",
   "metadata": {},
   "source": [
    "### Global variable"
   ]
  },
  {
   "cell_type": "code",
   "execution_count": 33,
   "metadata": {
    "collapsed": false
   },
   "outputs": [
    {
     "name": "stdout",
     "output_type": "stream",
     "text": [
      "5\n",
      "4\n"
     ]
    }
   ],
   "source": [
    "a = 4\n",
    "def foo():\n",
    "    a = 5\n",
    "    print a # this refers to the a defined within foo\n",
    "foo()\n",
    "print a #this refers to the a defined in the global scope"
   ]
  },
  {
   "cell_type": "markdown",
   "metadata": {},
   "source": [
    "When you call `foo` and try to assign 5 to `a`, `foo` will create a **local** variable named `a`, which is different from the global `a` outside. To change the outside `a`, you need to put in the keyword `global`:"
   ]
  },
  {
   "cell_type": "code",
   "execution_count": 34,
   "metadata": {
    "collapsed": false
   },
   "outputs": [
    {
     "name": "stdout",
     "output_type": "stream",
     "text": [
      "5\n",
      "5\n"
     ]
    }
   ],
   "source": [
    "a = 4\n",
    "def foo():\n",
    "    global a\n",
    "    a = 5\n",
    "    print a\n",
    "foo()\n",
    "print a"
   ]
  },
  {
   "cell_type": "code",
   "execution_count": null,
   "metadata": {
    "collapsed": true
   },
   "outputs": [],
   "source": []
  }
 ],
 "metadata": {
  "kernelspec": {
   "display_name": "Python 2",
   "language": "python",
   "name": "python2"
  },
  "language_info": {
   "codemirror_mode": {
    "name": "ipython",
    "version": 2
   },
   "file_extension": ".py",
   "mimetype": "text/x-python",
   "name": "python",
   "nbconvert_exporter": "python",
   "pygments_lexer": "ipython2",
   "version": "2.7.12"
  }
 },
 "nbformat": 4,
 "nbformat_minor": 0
}
